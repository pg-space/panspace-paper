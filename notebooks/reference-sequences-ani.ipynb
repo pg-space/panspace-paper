{
 "cells": [
  {
   "cell_type": "markdown",
   "metadata": {},
   "source": [
    "We need one sequence for each species to use a reference in the computation of ANI. "
   ]
  },
  {
   "cell_type": "code",
   "execution_count": 2,
   "metadata": {},
   "outputs": [],
   "source": [
    "import numpy as np\n",
    "import pandas as pd\n",
    "\n",
    "from pathlib import Path\n",
    "from collections import Counter\n",
    "\n",
    "KMER = 6\n",
    "DIR_EXP = Path(f\"../experiments-paper/{KMER}mer\")\n",
    "NAME_EXPERIMENT = \"07_25_2024-autoencoder\"\n",
    "\n",
    "path_experiment = DIR_EXP.joinpath(NAME_EXPERIMENT)"
   ]
  },
  {
   "cell_type": "code",
   "execution_count": 3,
   "metadata": {},
   "outputs": [
    {
     "data": {
      "text/html": [
       "<div>\n",
       "<style scoped>\n",
       "    .dataframe tbody tr th:only-of-type {\n",
       "        vertical-align: middle;\n",
       "    }\n",
       "\n",
       "    .dataframe tbody tr th {\n",
       "        vertical-align: top;\n",
       "    }\n",
       "\n",
       "    .dataframe thead th {\n",
       "        text-align: right;\n",
       "    }\n",
       "</style>\n",
       "<table border=\"1\" class=\"dataframe\">\n",
       "  <thead>\n",
       "    <tr style=\"text-align: right;\">\n",
       "      <th></th>\n",
       "      <th>path_fcgr</th>\n",
       "      <th>label</th>\n",
       "      <th>sample_id</th>\n",
       "      <th>tarfile</th>\n",
       "    </tr>\n",
       "  </thead>\n",
       "  <tbody>\n",
       "    <tr>\n",
       "      <th>0</th>\n",
       "      <td>data/fcgr/6mer/salmonella_enterica__20/SAMN060...</td>\n",
       "      <td>salmonella_enterica</td>\n",
       "      <td>SAMN06034028</td>\n",
       "      <td>salmonella_enterica__20</td>\n",
       "    </tr>\n",
       "    <tr>\n",
       "      <th>1</th>\n",
       "      <td>data/fcgr/6mer/escherichia_coli__21/SAMN097384...</td>\n",
       "      <td>escherichia_coli</td>\n",
       "      <td>SAMN09738459</td>\n",
       "      <td>escherichia_coli__21</td>\n",
       "    </tr>\n",
       "    <tr>\n",
       "      <th>2</th>\n",
       "      <td>data/fcgr/6mer/salmonella_enterica__46/SAMN103...</td>\n",
       "      <td>salmonella_enterica</td>\n",
       "      <td>SAMN10391382</td>\n",
       "      <td>salmonella_enterica__46</td>\n",
       "    </tr>\n",
       "    <tr>\n",
       "      <th>3</th>\n",
       "      <td>data/fcgr/6mer/neisseria_meningitidis__02/SAME...</td>\n",
       "      <td>neisseria_meningitidis</td>\n",
       "      <td>SAMEA2147963</td>\n",
       "      <td>neisseria_meningitidis__02</td>\n",
       "    </tr>\n",
       "    <tr>\n",
       "      <th>4</th>\n",
       "      <td>data/fcgr/6mer/salmonella_enterica__18/SAMN053...</td>\n",
       "      <td>salmonella_enterica</td>\n",
       "      <td>SAMN05357778</td>\n",
       "      <td>salmonella_enterica__18</td>\n",
       "    </tr>\n",
       "  </tbody>\n",
       "</table>\n",
       "</div>"
      ],
      "text/plain": [
       "                                           path_fcgr                   label  \\\n",
       "0  data/fcgr/6mer/salmonella_enterica__20/SAMN060...     salmonella_enterica   \n",
       "1  data/fcgr/6mer/escherichia_coli__21/SAMN097384...        escherichia_coli   \n",
       "2  data/fcgr/6mer/salmonella_enterica__46/SAMN103...     salmonella_enterica   \n",
       "3  data/fcgr/6mer/neisseria_meningitidis__02/SAME...  neisseria_meningitidis   \n",
       "4  data/fcgr/6mer/salmonella_enterica__18/SAMN053...     salmonella_enterica   \n",
       "\n",
       "      sample_id                     tarfile  \n",
       "0  SAMN06034028     salmonella_enterica__20  \n",
       "1  SAMN09738459        escherichia_coli__21  \n",
       "2  SAMN10391382     salmonella_enterica__46  \n",
       "3  SAMEA2147963  neisseria_meningitidis__02  \n",
       "4  SAMN05357778     salmonella_enterica__18  "
      ]
     },
     "execution_count": 3,
     "metadata": {},
     "output_type": "execute_result"
    }
   ],
   "source": [
    "# get predictions\n",
    "\n",
    "kfold_test = list(\n",
    "    path_experiment.joinpath(\"cross-validation\").glob(\"test*\")\n",
    ")\n",
    "kfold_test.sort()\n",
    "\n",
    "paths_fcgr = []\n",
    "labels = []\n",
    "\n",
    "for kfold in kfold_test:\n",
    "\n",
    "    with open(kfold) as fp:\n",
    "        for line in fp.readlines():\n",
    "            path_fcgr, label = line.strip().split(\"\\t\")\n",
    "\n",
    "            # if path_fcgr not in df_outliers.path:\n",
    "            labels.append(label)\n",
    "            paths_fcgr.append(path_fcgr)\n",
    "\n",
    "df_labels = pd.DataFrame({\n",
    "    \"path_fcgr\": paths_fcgr,\n",
    "    \"label\": labels\n",
    "})\n",
    "df_labels[\"sample_id\"] = df_labels.path_fcgr.apply(lambda s: Path(s).stem)\n",
    "df_labels[\"tarfile\"] = df_labels.path_fcgr.apply(lambda s: Path(s).parent.stem)\n",
    "df_labels.head()"
   ]
  },
  {
   "cell_type": "markdown",
   "metadata": {},
   "source": [
    "Number of sequences by label"
   ]
  },
  {
   "cell_type": "code",
   "execution_count": 4,
   "metadata": {},
   "outputs": [],
   "source": [
    "count_by_label = Counter(df_labels.label)"
   ]
  },
  {
   "cell_type": "markdown",
   "metadata": {},
   "source": [
    "Mapping integer encoding (by model) to label.\n",
    "They were generated by considering all labels, and then sorting"
   ]
  },
  {
   "cell_type": "code",
   "execution_count": 5,
   "metadata": {},
   "outputs": [],
   "source": [
    "unique_labels = list(df_labels.label.unique())\n",
    "unique_labels.sort()\n",
    "dict_int2label = {idx: label for idx, label in enumerate(unique_labels)}"
   ]
  },
  {
   "cell_type": "code",
   "execution_count": 6,
   "metadata": {},
   "outputs": [
    {
     "data": {
      "text/plain": [
       "657775"
      ]
     },
     "execution_count": 6,
     "metadata": {},
     "output_type": "execute_result"
    }
   ],
   "source": [
    "path_cf = path_experiment.joinpath(\"cross-validation/confident-learning\")\n",
    "\n",
    "pred_probs = np.load( path_cf.joinpath(\"pred_probs.npy\") )\n",
    "preds = [dict_int2label[int(x)] for x in pred_probs.argmax(axis=1) ]\n",
    "df_labels[\"pred\"] = preds\n",
    "df_labels[\"prob\"] = pred_probs.max(axis=1)\n",
    "len(preds)"
   ]
  },
  {
   "cell_type": "markdown",
   "metadata": {},
   "source": [
    "# find the most confident prediction"
   ]
  },
  {
   "cell_type": "code",
   "execution_count": 7,
   "metadata": {},
   "outputs": [
    {
     "data": {
      "text/html": [
       "<div>\n",
       "<style scoped>\n",
       "    .dataframe tbody tr th:only-of-type {\n",
       "        vertical-align: middle;\n",
       "    }\n",
       "\n",
       "    .dataframe tbody tr th {\n",
       "        vertical-align: top;\n",
       "    }\n",
       "\n",
       "    .dataframe thead th {\n",
       "        text-align: right;\n",
       "    }\n",
       "</style>\n",
       "<table border=\"1\" class=\"dataframe\">\n",
       "  <thead>\n",
       "    <tr style=\"text-align: right;\">\n",
       "      <th></th>\n",
       "      <th>path_fcgr</th>\n",
       "      <th>label</th>\n",
       "      <th>sample_id</th>\n",
       "      <th>tarfile</th>\n",
       "      <th>pred</th>\n",
       "      <th>prob</th>\n",
       "    </tr>\n",
       "  </thead>\n",
       "  <tbody>\n",
       "    <tr>\n",
       "      <th>0</th>\n",
       "      <td>data/fcgr/6mer/salmonella_enterica__20/SAMN060...</td>\n",
       "      <td>salmonella_enterica</td>\n",
       "      <td>SAMN06034028</td>\n",
       "      <td>salmonella_enterica__20</td>\n",
       "      <td>salmonella_enterica</td>\n",
       "      <td>0.999959</td>\n",
       "    </tr>\n",
       "    <tr>\n",
       "      <th>1</th>\n",
       "      <td>data/fcgr/6mer/escherichia_coli__21/SAMN097384...</td>\n",
       "      <td>escherichia_coli</td>\n",
       "      <td>SAMN09738459</td>\n",
       "      <td>escherichia_coli__21</td>\n",
       "      <td>escherichia_coli</td>\n",
       "      <td>0.999406</td>\n",
       "    </tr>\n",
       "    <tr>\n",
       "      <th>2</th>\n",
       "      <td>data/fcgr/6mer/salmonella_enterica__46/SAMN103...</td>\n",
       "      <td>salmonella_enterica</td>\n",
       "      <td>SAMN10391382</td>\n",
       "      <td>salmonella_enterica__46</td>\n",
       "      <td>salmonella_enterica</td>\n",
       "      <td>0.999947</td>\n",
       "    </tr>\n",
       "    <tr>\n",
       "      <th>3</th>\n",
       "      <td>data/fcgr/6mer/neisseria_meningitidis__02/SAME...</td>\n",
       "      <td>neisseria_meningitidis</td>\n",
       "      <td>SAMEA2147963</td>\n",
       "      <td>neisseria_meningitidis__02</td>\n",
       "      <td>neisseria_meningitidis</td>\n",
       "      <td>0.999588</td>\n",
       "    </tr>\n",
       "    <tr>\n",
       "      <th>4</th>\n",
       "      <td>data/fcgr/6mer/salmonella_enterica__18/SAMN053...</td>\n",
       "      <td>salmonella_enterica</td>\n",
       "      <td>SAMN05357778</td>\n",
       "      <td>salmonella_enterica__18</td>\n",
       "      <td>salmonella_enterica</td>\n",
       "      <td>0.999957</td>\n",
       "    </tr>\n",
       "  </tbody>\n",
       "</table>\n",
       "</div>"
      ],
      "text/plain": [
       "                                           path_fcgr                   label  \\\n",
       "0  data/fcgr/6mer/salmonella_enterica__20/SAMN060...     salmonella_enterica   \n",
       "1  data/fcgr/6mer/escherichia_coli__21/SAMN097384...        escherichia_coli   \n",
       "2  data/fcgr/6mer/salmonella_enterica__46/SAMN103...     salmonella_enterica   \n",
       "3  data/fcgr/6mer/neisseria_meningitidis__02/SAME...  neisseria_meningitidis   \n",
       "4  data/fcgr/6mer/salmonella_enterica__18/SAMN053...     salmonella_enterica   \n",
       "\n",
       "      sample_id                     tarfile                    pred      prob  \n",
       "0  SAMN06034028     salmonella_enterica__20     salmonella_enterica  0.999959  \n",
       "1  SAMN09738459        escherichia_coli__21        escherichia_coli  0.999406  \n",
       "2  SAMN10391382     salmonella_enterica__46     salmonella_enterica  0.999947  \n",
       "3  SAMEA2147963  neisseria_meningitidis__02  neisseria_meningitidis  0.999588  \n",
       "4  SAMN05357778     salmonella_enterica__18     salmonella_enterica  0.999957  "
      ]
     },
     "execution_count": 7,
     "metadata": {},
     "output_type": "execute_result"
    }
   ],
   "source": [
    "df_labels.head()"
   ]
  },
  {
   "cell_type": "code",
   "execution_count": 8,
   "metadata": {},
   "outputs": [],
   "source": [
    "df_labels[\"true_positive\"] = df_labels.apply(lambda row: row[\"label\"] == row[\"pred\"], axis=1)"
   ]
  },
  {
   "cell_type": "code",
   "execution_count": 9,
   "metadata": {},
   "outputs": [],
   "source": [
    "list_best_classified = [] \n",
    "no_data = []\n",
    "for label in unique_labels:\n",
    "    # label = unique_labels[0]\n",
    "    try: \n",
    "        best_classified = df_labels.query(f\"label == '{label}' and pred == '{label}'\").sort_values(by=\"prob\", ascending=False).iloc[0,:].to_dict()\n",
    "        list_best_classified.append(best_classified)\n",
    "    except:\n",
    "        no_data.append(label)"
   ]
  },
  {
   "cell_type": "code",
   "execution_count": 10,
   "metadata": {},
   "outputs": [],
   "source": [
    "df_best_classified = pd.DataFrame(list_best_classified)"
   ]
  },
  {
   "cell_type": "code",
   "execution_count": 11,
   "metadata": {},
   "outputs": [],
   "source": [
    "df_best_classified.to_csv(\"../data/reference_list.txt\", sep=\"\\t\", index=False)"
   ]
  },
  {
   "cell_type": "code",
   "execution_count": 14,
   "metadata": {},
   "outputs": [],
   "source": [
    "for tarfile in df_best_classified.tarfile.unique():\n",
    "\n",
    "    sample_ids = df_best_classified.query(f\"tarfile == '{tarfile}'\").sample_id.tolist()\n",
    "    with open(f\"../data/reference_sequences/lists_by_tar/{tarfile}.txt\", \"w\") as fp:\n",
    "\n",
    "        for sample_id in sample_ids:\n",
    "            fp.write(f\"{tarfile}/{sample_id}.fa\\n\")"
   ]
  },
  {
   "cell_type": "code",
   "execution_count": null,
   "metadata": {},
   "outputs": [],
   "source": []
  }
 ],
 "metadata": {
  "kernelspec": {
   "display_name": "panspace",
   "language": "python",
   "name": "python3"
  },
  "language_info": {
   "codemirror_mode": {
    "name": "ipython",
    "version": 3
   },
   "file_extension": ".py",
   "mimetype": "text/x-python",
   "name": "python",
   "nbconvert_exporter": "python",
   "pygments_lexer": "ipython3",
   "version": "3.10.14"
  }
 },
 "nbformat": 4,
 "nbformat_minor": 2
}
