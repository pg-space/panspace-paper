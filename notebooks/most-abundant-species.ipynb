{
 "cells": [
  {
   "cell_type": "code",
   "execution_count": 1,
   "metadata": {},
   "outputs": [],
   "source": [
    "import pandas as pd \n"
   ]
  },
  {
   "cell_type": "code",
   "execution_count": 8,
   "metadata": {},
   "outputs": [],
   "source": [
    "df = pd.read_csv(\"../data/three_most_abundant-krakenbracken.txt\",sep=\"\\t\")\n",
    "df.rename({\n",
    "    \"V2\": \"species1\",\n",
    "    \"V3\": \"abundancy1\",\n",
    "    \"V4\": \"species2\",\n",
    "    \"V5\": \"abundancy2\",\n",
    "    \"V6\": \"species3\",\n",
    "    \"V7\": \"abundancy3\",\n",
    "}, inplace=True, axis=1)"
   ]
  },
  {
   "cell_type": "code",
   "execution_count": 9,
   "metadata": {},
   "outputs": [
    {
     "data": {
      "text/html": [
       "<div>\n",
       "<style scoped>\n",
       "    .dataframe tbody tr th:only-of-type {\n",
       "        vertical-align: middle;\n",
       "    }\n",
       "\n",
       "    .dataframe tbody tr th {\n",
       "        vertical-align: top;\n",
       "    }\n",
       "\n",
       "    .dataframe thead th {\n",
       "        text-align: right;\n",
       "    }\n",
       "</style>\n",
       "<table border=\"1\" class=\"dataframe\">\n",
       "  <thead>\n",
       "    <tr style=\"text-align: right;\">\n",
       "      <th></th>\n",
       "      <th>sample_id</th>\n",
       "      <th>species1</th>\n",
       "      <th>abundancy1</th>\n",
       "      <th>species2</th>\n",
       "      <th>abundancy2</th>\n",
       "      <th>species3</th>\n",
       "      <th>abundancy3</th>\n",
       "    </tr>\n",
       "  </thead>\n",
       "  <tbody>\n",
       "    <tr>\n",
       "      <th>0</th>\n",
       "      <td>SAMD00000344</td>\n",
       "      <td>Lactobacillus hokkaidonensis</td>\n",
       "      <td>99.093</td>\n",
       "      <td>Lactobacillus plantarum</td>\n",
       "      <td>0.159</td>\n",
       "      <td>Lactobacillus amylophilus</td>\n",
       "      <td>0.110</td>\n",
       "    </tr>\n",
       "    <tr>\n",
       "      <th>1</th>\n",
       "      <td>SAMD00000345</td>\n",
       "      <td>Xanthomonas euvesicatoria</td>\n",
       "      <td>27.153</td>\n",
       "      <td>Lactobacillus plantarum</td>\n",
       "      <td>18.485</td>\n",
       "      <td>Lactobacillus brevis</td>\n",
       "      <td>3.043</td>\n",
       "    </tr>\n",
       "    <tr>\n",
       "      <th>2</th>\n",
       "      <td>SAMD00000355</td>\n",
       "      <td>Streptococcus pyogenes</td>\n",
       "      <td>97.942</td>\n",
       "      <td>Streptococcus agalactiae</td>\n",
       "      <td>0.883</td>\n",
       "      <td>Streptococcus dysgalactiae</td>\n",
       "      <td>0.858</td>\n",
       "    </tr>\n",
       "    <tr>\n",
       "      <th>3</th>\n",
       "      <td>SAMD00000550</td>\n",
       "      <td>Corynebacterium glutamicum</td>\n",
       "      <td>93.780</td>\n",
       "      <td>[Brevibacterium] flavum</td>\n",
       "      <td>2.292</td>\n",
       "      <td>Corynebacterium crudilactis</td>\n",
       "      <td>1.066</td>\n",
       "    </tr>\n",
       "    <tr>\n",
       "      <th>4</th>\n",
       "      <td>SAMD00000552</td>\n",
       "      <td>Corynebacterium glutamicum</td>\n",
       "      <td>99.951</td>\n",
       "      <td>Kluyveromyces marxianus</td>\n",
       "      <td>0.015</td>\n",
       "      <td>Acetobacter pasteurianus</td>\n",
       "      <td>0.012</td>\n",
       "    </tr>\n",
       "  </tbody>\n",
       "</table>\n",
       "</div>"
      ],
      "text/plain": [
       "      sample_id                      species1  abundancy1  \\\n",
       "0  SAMD00000344  Lactobacillus hokkaidonensis      99.093   \n",
       "1  SAMD00000345     Xanthomonas euvesicatoria      27.153   \n",
       "2  SAMD00000355        Streptococcus pyogenes      97.942   \n",
       "3  SAMD00000550    Corynebacterium glutamicum      93.780   \n",
       "4  SAMD00000552    Corynebacterium glutamicum      99.951   \n",
       "\n",
       "                   species2  abundancy2                     species3  \\\n",
       "0   Lactobacillus plantarum       0.159    Lactobacillus amylophilus   \n",
       "1   Lactobacillus plantarum      18.485         Lactobacillus brevis   \n",
       "2  Streptococcus agalactiae       0.883   Streptococcus dysgalactiae   \n",
       "3   [Brevibacterium] flavum       2.292  Corynebacterium crudilactis   \n",
       "4   Kluyveromyces marxianus       0.015     Acetobacter pasteurianus   \n",
       "\n",
       "   abundancy3  \n",
       "0       0.110  \n",
       "1       3.043  \n",
       "2       0.858  \n",
       "3       1.066  \n",
       "4       0.012  "
      ]
     },
     "execution_count": 9,
     "metadata": {},
     "output_type": "execute_result"
    }
   ],
   "source": [
    "df.head()"
   ]
  },
  {
   "cell_type": "code",
   "execution_count": 10,
   "metadata": {},
   "outputs": [
    {
     "data": {
      "text/plain": [
       "sample_id        0\n",
       "species1         0\n",
       "abundancy1       0\n",
       "species2      1700\n",
       "abundancy2    1700\n",
       "species3      3158\n",
       "abundancy3    3158\n",
       "dtype: int64"
      ]
     },
     "execution_count": 10,
     "metadata": {},
     "output_type": "execute_result"
    }
   ],
   "source": [
    "df.isnull().sum()"
   ]
  },
  {
   "cell_type": "code",
   "execution_count": null,
   "metadata": {},
   "outputs": [],
   "source": [
    "\n"
   ]
  }
 ],
 "metadata": {
  "kernelspec": {
   "display_name": "panspace",
   "language": "python",
   "name": "python3"
  },
  "language_info": {
   "codemirror_mode": {
    "name": "ipython",
    "version": 3
   },
   "file_extension": ".py",
   "mimetype": "text/x-python",
   "name": "python",
   "nbconvert_exporter": "python",
   "pygments_lexer": "ipython3",
   "version": "3.10.14"
  }
 },
 "nbformat": 4,
 "nbformat_minor": 2
}
