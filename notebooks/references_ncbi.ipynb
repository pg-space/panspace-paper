{
 "cells": [
  {
   "cell_type": "code",
   "execution_count": 1,
   "metadata": {},
   "outputs": [],
   "source": [
    "import pandas as pd \n",
    "\n",
    "from collections import namedtuple"
   ]
  },
  {
   "cell_type": "markdown",
   "metadata": {},
   "source": [
    "Load list of reference sequences from NCBI"
   ]
  },
  {
   "cell_type": "code",
   "execution_count": 2,
   "metadata": {},
   "outputs": [
    {
     "data": {
      "text/plain": [
       "(18637, 14)"
      ]
     },
     "execution_count": 2,
     "metadata": {},
     "output_type": "execute_result"
    }
   ],
   "source": [
    "reference_ncbi = pd.read_csv(\"../data/ncbi_bacteria_references.tsv\", sep=\"\\t\")\n",
    "reference_ncbi.shape\n"
   ]
  },
  {
   "cell_type": "code",
   "execution_count": 41,
   "metadata": {},
   "outputs": [
    {
     "data": {
      "text/html": [
       "<div>\n",
       "<style scoped>\n",
       "    .dataframe tbody tr th:only-of-type {\n",
       "        vertical-align: middle;\n",
       "    }\n",
       "\n",
       "    .dataframe tbody tr th {\n",
       "        vertical-align: top;\n",
       "    }\n",
       "\n",
       "    .dataframe thead th {\n",
       "        text-align: right;\n",
       "    }\n",
       "</style>\n",
       "<table border=\"1\" class=\"dataframe\">\n",
       "  <thead>\n",
       "    <tr style=\"text-align: right;\">\n",
       "      <th></th>\n",
       "      <th>Assembly Accession</th>\n",
       "      <th>Assembly Name</th>\n",
       "      <th>Organism Name</th>\n",
       "      <th>Organism Infraspecific Names Breed</th>\n",
       "      <th>Organism Infraspecific Names Strain</th>\n",
       "      <th>Organism Infraspecific Names Cultivar</th>\n",
       "      <th>Organism Infraspecific Names Ecotype</th>\n",
       "      <th>Organism Infraspecific Names Isolate</th>\n",
       "      <th>Organism Infraspecific Names Sex</th>\n",
       "      <th>Annotation Name</th>\n",
       "      <th>Assembly Level</th>\n",
       "      <th>Assembly Release Date</th>\n",
       "      <th>WGS project accession</th>\n",
       "      <th>Assembly Stats Number of Scaffolds</th>\n",
       "    </tr>\n",
       "  </thead>\n",
       "  <tbody>\n",
       "    <tr>\n",
       "      <th>3</th>\n",
       "      <td>GCF_000005845.2</td>\n",
       "      <td>ASM584v2</td>\n",
       "      <td>Escherichia coli str. K-12 substr. MG1655</td>\n",
       "      <td>NaN</td>\n",
       "      <td>K-12 substr. MG1655</td>\n",
       "      <td>NaN</td>\n",
       "      <td>NaN</td>\n",
       "      <td>NaN</td>\n",
       "      <td>NaN</td>\n",
       "      <td>Annotation submitted by NCBI RefSeq</td>\n",
       "      <td>Complete Genome</td>\n",
       "      <td>2013-09-26</td>\n",
       "      <td>NaN</td>\n",
       "      <td>1.0</td>\n",
       "    </tr>\n",
       "    <tr>\n",
       "      <th>4</th>\n",
       "      <td>GCF_000008865.2</td>\n",
       "      <td>ASM886v2</td>\n",
       "      <td>Escherichia coli O157:H7 str. Sakai</td>\n",
       "      <td>NaN</td>\n",
       "      <td>Sakai substr. RIMD 0509952</td>\n",
       "      <td>NaN</td>\n",
       "      <td>NaN</td>\n",
       "      <td>NaN</td>\n",
       "      <td>NaN</td>\n",
       "      <td>Annotation submitted by NCBI RefSeq</td>\n",
       "      <td>Complete Genome</td>\n",
       "      <td>2018-06-08</td>\n",
       "      <td>NaN</td>\n",
       "      <td>3.0</td>\n",
       "    </tr>\n",
       "  </tbody>\n",
       "</table>\n",
       "</div>"
      ],
      "text/plain": [
       "  Assembly Accession Assembly Name                              Organism Name  \\\n",
       "3    GCF_000005845.2      ASM584v2  Escherichia coli str. K-12 substr. MG1655   \n",
       "4    GCF_000008865.2      ASM886v2        Escherichia coli O157:H7 str. Sakai   \n",
       "\n",
       "   Organism Infraspecific Names Breed Organism Infraspecific Names Strain  \\\n",
       "3                                 NaN                 K-12 substr. MG1655   \n",
       "4                                 NaN          Sakai substr. RIMD 0509952   \n",
       "\n",
       "   Organism Infraspecific Names Cultivar Organism Infraspecific Names Ecotype  \\\n",
       "3                                    NaN                                  NaN   \n",
       "4                                    NaN                                  NaN   \n",
       "\n",
       "  Organism Infraspecific Names Isolate  Organism Infraspecific Names Sex  \\\n",
       "3                                  NaN                               NaN   \n",
       "4                                  NaN                               NaN   \n",
       "\n",
       "                       Annotation Name   Assembly Level Assembly Release Date  \\\n",
       "3  Annotation submitted by NCBI RefSeq  Complete Genome            2013-09-26   \n",
       "4  Annotation submitted by NCBI RefSeq  Complete Genome            2018-06-08   \n",
       "\n",
       "  WGS project accession  Assembly Stats Number of Scaffolds  \n",
       "3                   NaN                                 1.0  \n",
       "4                   NaN                                 3.0  "
      ]
     },
     "execution_count": 41,
     "metadata": {},
     "output_type": "execute_result"
    }
   ],
   "source": [
    "reference_ncbi.loc[reference_ncbi[\"Organism Name\"].apply(lambda x: x.startswith(\"Escherichia coli\")),:]"
   ]
  },
  {
   "cell_type": "code",
   "execution_count": 3,
   "metadata": {},
   "outputs": [],
   "source": [
    "labels_ncbi = reference_ncbi[[\"Assembly Accession\",\"Organism Name\",\"Assembly Release Date\"]].to_dict(\"records\")\n"
   ]
  },
  {
   "cell_type": "code",
   "execution_count": 4,
   "metadata": {},
   "outputs": [
    {
     "data": {
      "text/plain": [
       "{'Assembly Accession': 'GCF_000006945.2',\n",
       " 'Organism Name': 'Salmonella enterica subsp. enterica serovar Typhimurium str. LT2',\n",
       " 'Assembly Release Date': '2016-01-13'}"
      ]
     },
     "execution_count": 4,
     "metadata": {},
     "output_type": "execute_result"
    }
   ],
   "source": [
    "labels_ncbi[0]"
   ]
  },
  {
   "cell_type": "markdown",
   "metadata": {},
   "source": [
    "load list of labels EBI"
   ]
  },
  {
   "cell_type": "code",
   "execution_count": 5,
   "metadata": {},
   "outputs": [],
   "source": [
    "labels_by_sampleid = pd.read_csv(\"../data/labels_krakenbracken_by_sampleid.txt\", sep=\"\\t\")\n",
    "labels_ebi = labels_by_sampleid.label.unique().tolist()"
   ]
  },
  {
   "cell_type": "code",
   "execution_count": 6,
   "metadata": {},
   "outputs": [
    {
     "data": {
      "text/plain": [
       "['Lactobacillus hokkaidonensis',\n",
       " 'Xanthomonas euvesicatoria',\n",
       " 'Streptococcus pyogenes',\n",
       " 'Corynebacterium glutamicum',\n",
       " 'Vibrio parahaemolyticus',\n",
       " 'Mycobacteroides chelonae',\n",
       " 'Cronobacter sakazakii',\n",
       " 'Serratia ficaria',\n",
       " 'Pandoraea oxalativorans',\n",
       " 'Staphylococcus epidermidis',\n",
       " 'Clostridium perfringens',\n",
       " 'Mycobacterium chimaera']"
      ]
     },
     "execution_count": 6,
     "metadata": {},
     "output_type": "execute_result"
    }
   ],
   "source": [
    "labels_ebi[:12]"
   ]
  },
  {
   "cell_type": "code",
   "execution_count": 7,
   "metadata": {},
   "outputs": [
    {
     "data": {
      "text/plain": [
       "2600"
      ]
     },
     "execution_count": 7,
     "metadata": {},
     "output_type": "execute_result"
    }
   ],
   "source": [
    "len(labels_ebi)"
   ]
  },
  {
   "cell_type": "code",
   "execution_count": 20,
   "metadata": {},
   "outputs": [],
   "source": [
    "def preprocessing(label):\n",
    "    return \"_\".join(label.strip().lower().split(\" \"))\n",
    "\n",
    "def check_ncbi_matches(label_ebi):\n",
    "    label_ebi = preprocessing(label_ebi)\n",
    "    labels = []\n",
    "    for label_ncbi in labels_ncbi:\n",
    "        label_p = preprocessing(label_ncbi[\"Organism Name\"])\n",
    "        if label_p.startswith(label_ebi):\n",
    "            labels.append(label_ncbi)\n",
    "\n",
    "    return labels"
   ]
  },
  {
   "cell_type": "code",
   "execution_count": 21,
   "metadata": {},
   "outputs": [],
   "source": [
    "references_by_ebi = {preprocessing(label_ebi): check_ncbi_matches(label_ebi) for label_ebi in labels_ebi}"
   ]
  },
  {
   "cell_type": "code",
   "execution_count": 29,
   "metadata": {},
   "outputs": [],
   "source": [
    "references_curated = dict(filter(lambda x: len(x[1])==1, references_by_ebi.items()))"
   ]
  },
  {
   "cell_type": "code",
   "execution_count": 45,
   "metadata": {},
   "outputs": [
    {
     "data": {
      "text/plain": [
       "8"
      ]
     },
     "execution_count": 45,
     "metadata": {},
     "output_type": "execute_result"
    }
   ],
   "source": [
    "to_check = dict(filter(lambda x: len(x[1])>1, references_by_ebi.items()))\n",
    "len(to_check)"
   ]
  },
  {
   "cell_type": "markdown",
   "metadata": {},
   "source": [
    "this ones were manually checked to select one reference"
   ]
  },
  {
   "cell_type": "code",
   "execution_count": 53,
   "metadata": {},
   "outputs": [],
   "source": [
    "checked = {'escherichia_coli': [{'Assembly Accession': 'GCF_000008865.2',\n",
    "   'Organism Name': 'Escherichia coli O157:H7 str. Sakai',\n",
    "   'Assembly Release Date': '2018-06-08'}],\n",
    " 'streptococcus_equi': [{'Assembly Accession': 'GCF_015689395.1',\n",
    "   'Organism Name': 'Streptococcus equi subsp. zooepidemicus',\n",
    "   'Assembly Release Date': '2020-11-25'}],\n",
    " 'pseudomonas_syringae': [{'Assembly Accession': 'GCF_018394375.1',\n",
    "   'Organism Name': 'Pseudomonas syringae',\n",
    "   'Assembly Release Date': '2021-05-18'}],\n",
    " 'pseudomonas_oryzihabitans': [{'Assembly Accession': 'GCF_007665635.1',\n",
    "   'Organism Name': 'Pseudomonas oryzihabitans',\n",
    "   'Assembly Release Date': '2019-07-30'}],\n",
    " 'aerococcus_urinae': [{'Assembly Accession': 'GCF_001543175.1',\n",
    "   'Organism Name': 'Aerococcus urinae',\n",
    "   'Assembly Release Date': '2016-02-01'}],\n",
    " 'sphingomonas_panacis': [{'Assembly Accession': 'GCF_001717955.1',\n",
    "   'Organism Name': 'Sphingomonas panacis',\n",
    "   'Assembly Release Date': '2016-09-01'}],\n",
    " 'exiguobacterium_antarcticum': [{'Assembly Accession': 'GCF_025234655.1',\n",
    "   'Organism Name': 'Exiguobacterium antarcticum',\n",
    "   'Assembly Release Date': '2022-09-16'}],\n",
    " 'coxiella-like_endosymbiont': [{'Assembly Accession': 'GCF_002871095.1',\n",
    "   'Organism Name': 'Coxiella-like endosymbiont',\n",
    "   'Assembly Release Date': '2018-01-10'}]}\n",
    "\n",
    "references_curated.update(checked)"
   ]
  },
  {
   "cell_type": "code",
   "execution_count": 68,
   "metadata": {},
   "outputs": [
    {
     "data": {
      "text/html": [
       "<div>\n",
       "<style scoped>\n",
       "    .dataframe tbody tr th:only-of-type {\n",
       "        vertical-align: middle;\n",
       "    }\n",
       "\n",
       "    .dataframe tbody tr th {\n",
       "        vertical-align: top;\n",
       "    }\n",
       "\n",
       "    .dataframe thead th {\n",
       "        text-align: right;\n",
       "    }\n",
       "</style>\n",
       "<table border=\"1\" class=\"dataframe\">\n",
       "  <thead>\n",
       "    <tr style=\"text-align: right;\">\n",
       "      <th></th>\n",
       "      <th>label</th>\n",
       "      <th>Assembly Accession</th>\n",
       "      <th>Organism Name</th>\n",
       "      <th>Assembly Release Date</th>\n",
       "    </tr>\n",
       "  </thead>\n",
       "  <tbody>\n",
       "    <tr>\n",
       "      <th>0</th>\n",
       "      <td>xanthomonas_euvesicatoria</td>\n",
       "      <td>GCF_017724035.1</td>\n",
       "      <td>Xanthomonas euvesicatoria pv. alfalfae</td>\n",
       "      <td>2021-04-03</td>\n",
       "    </tr>\n",
       "    <tr>\n",
       "      <th>1</th>\n",
       "      <td>streptococcus_pyogenes</td>\n",
       "      <td>GCF_900475035.1</td>\n",
       "      <td>Streptococcus pyogenes</td>\n",
       "      <td>2018-06-17</td>\n",
       "    </tr>\n",
       "    <tr>\n",
       "      <th>2</th>\n",
       "      <td>corynebacterium_glutamicum</td>\n",
       "      <td>GCF_000404185.1</td>\n",
       "      <td>Corynebacterium glutamicum SCgG2</td>\n",
       "      <td>2013-06-03</td>\n",
       "    </tr>\n",
       "    <tr>\n",
       "      <th>3</th>\n",
       "      <td>vibrio_parahaemolyticus</td>\n",
       "      <td>GCF_000196095.1</td>\n",
       "      <td>Vibrio parahaemolyticus RIMD 2210633</td>\n",
       "      <td>2004-05-11</td>\n",
       "    </tr>\n",
       "    <tr>\n",
       "      <th>4</th>\n",
       "      <td>mycobacteroides_chelonae</td>\n",
       "      <td>GCF_001632805.1</td>\n",
       "      <td>Mycobacteroides chelonae CCUG 47445</td>\n",
       "      <td>2016-04-27</td>\n",
       "    </tr>\n",
       "  </tbody>\n",
       "</table>\n",
       "</div>"
      ],
      "text/plain": [
       "                        label Assembly Accession  \\\n",
       "0   xanthomonas_euvesicatoria    GCF_017724035.1   \n",
       "1      streptococcus_pyogenes    GCF_900475035.1   \n",
       "2  corynebacterium_glutamicum    GCF_000404185.1   \n",
       "3     vibrio_parahaemolyticus    GCF_000196095.1   \n",
       "4    mycobacteroides_chelonae    GCF_001632805.1   \n",
       "\n",
       "                            Organism Name Assembly Release Date  \n",
       "0  Xanthomonas euvesicatoria pv. alfalfae            2021-04-03  \n",
       "1                  Streptococcus pyogenes            2018-06-17  \n",
       "2        Corynebacterium glutamicum SCgG2            2013-06-03  \n",
       "3    Vibrio parahaemolyticus RIMD 2210633            2004-05-11  \n",
       "4     Mycobacteroides chelonae CCUG 47445            2016-04-27  "
      ]
     },
     "execution_count": 68,
     "metadata": {},
     "output_type": "execute_result"
    }
   ],
   "source": [
    "df_reference_sequences = pd.DataFrame.from_dict({k:v[0] for k,v in references_curated.items()}, orient=\"index\")\n",
    "df_reference_sequences.reset_index(inplace=True)\n",
    "df_reference_sequences.rename({\"index\":\"label\"}, inplace=True, axis=1)\n",
    "df_reference_sequences.to_csv(\"../data/ncib_reference_sequences.txt\", sep=\"\\t\", index=False)\n",
    "df_reference_sequences.head()"
   ]
  },
  {
   "cell_type": "code",
   "execution_count": null,
   "metadata": {},
   "outputs": [],
   "source": []
  }
 ],
 "metadata": {
  "kernelspec": {
   "display_name": "panspace",
   "language": "python",
   "name": "python3"
  },
  "language_info": {
   "codemirror_mode": {
    "name": "ipython",
    "version": 3
   },
   "file_extension": ".py",
   "mimetype": "text/x-python",
   "name": "python",
   "nbconvert_exporter": "python",
   "pygments_lexer": "ipython3",
   "version": "3.10.14"
  }
 },
 "nbformat": 4,
 "nbformat_minor": 2
}
